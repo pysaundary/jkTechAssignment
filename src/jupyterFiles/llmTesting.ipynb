{
 "cells": [
  {
   "cell_type": "code",
   "execution_count": 1,
   "metadata": {},
   "outputs": [],
   "source": [
    "import os\n",
    "from urllib.request import urlretrieve\n",
    "import numpy as np\n",
    "from langchain_community.embeddings import HuggingFaceBgeEmbeddings\n",
    "# from langchain_community.llms import HuggingFacePipeline\n",
    "from langchain_community.document_loaders import PyPDFLoader\n",
    "from langchain_community.document_loaders import PyPDFDirectoryLoader\n",
    "from langchain.text_splitter import RecursiveCharacterTextSplitter\n",
    "from langchain_community.vectorstores import FAISS\n",
    "# from langchain.chains import RetrievalQA\n",
    "from langchain.prompts import PromptTemplate"
   ]
  },
  {
   "cell_type": "code",
   "execution_count": 22,
   "metadata": {},
   "outputs": [
    {
     "name": "stdout",
     "output_type": "stream",
     "text": [
      "python\\Eric%20Matthes%20-%20Python%20Crash%20Course-No%20Starch%20Press%20%282023%29.pdf\n"
     ]
    }
   ],
   "source": [
    "# Download documents from U.S. Census Bureau to local directory.\n",
    "os.makedirs(\"python\", exist_ok=True)\n",
    "files = [\n",
    "    # \"https://www.census.gov/content/dam/Census/library/publications/2022/demo/p70-178.pdf\",\n",
    "    # \"https://www.census.gov/content/dam/Census/library/publications/2023/acs/acsbr-017.pdf\",\n",
    "    # \"https://www.census.gov/content/dam/Census/library/publications/2023/acs/acsbr-016.pdf\",\n",
    "    # \"https://www.census.gov/content/dam/Census/library/publications/2023/acs/acsbr-015.pdf\",\n",
    "    \"https://ia600200.us.archive.org/35/items/eric-matthes-python-crash-course-no-starch-press-2023/Eric%20Matthes%20-%20Python%20Crash%20Course-No%20Starch%20Press%20%282023%29.pdf\"\n",
    "]\n",
    "for url in files:\n",
    "    file_path = os.path.join(\"python\", url.rpartition(\"/\")[2])\n",
    "    urlretrieve(url, file_path)\n",
    "    print(file_path)"
   ]
  },
  {
   "cell_type": "code",
   "execution_count": 5,
   "metadata": {},
   "outputs": [
    {
     "data": {
      "text/plain": [
       "Document(metadata={'source': 'C:\\\\Users\\\\pysau\\\\OneDrive\\\\Documents\\\\GitHub\\\\jkTechAssignment\\\\media\\\\psaundary_0da70738-7510-4809-a5d2-ee22d43f78f7_github\\\\Git - Giant Undo Button.pdf', 'page': 0}, page_content='ĢİǺŇȚ\\xa0ŲŇĐǾ\\xa0BŲȚȚǾŇ')"
      ]
     },
     "execution_count": 5,
     "metadata": {},
     "output_type": "execute_result"
    }
   ],
   "source": [
    "loader = PyPDFDirectoryLoader(\"C:\\\\Users\\\\pysau\\\\OneDrive\\\\Documents\\\\GitHub\\\\jkTechAssignment\\\\media\\\\psaundary_0da70738-7510-4809-a5d2-ee22d43f78f7_github\")\n",
    "\n",
    "docs_before_split = loader.load()\n",
    "text_splitter = RecursiveCharacterTextSplitter(\n",
    "    chunk_size = 700,\n",
    "    chunk_overlap  = 50,\n",
    ")\n",
    "docs_after_split = text_splitter.split_documents(docs_before_split)\n",
    "\n",
    "docs_after_split[0]\n"
   ]
  },
  {
   "cell_type": "code",
   "execution_count": 6,
   "metadata": {},
   "outputs": [],
   "source": [
    "avg_doc_length = lambda docs: sum([len(doc.page_content) for doc in docs])//len(docs)\n",
    "avg_char_before_split = avg_doc_length(docs_before_split)\n",
    "avg_char_after_split = avg_doc_length(docs_after_split)\n",
    "\n",
    "# print(f'Before split, there were {len(docs_before_split)} documents loaded, with average characters equal to {avg_char_before_split}.')\n",
    "# print(f'After split, there were {len(docs_after_split)} documents (chunks), with average characters equal to {avg_char_after_split} (average chunk length).')Before split, there were 63 documents loaded, with average characters equal to 3830.After split, there were 296 documents (chunks), with average characters equal to 864 (average chunk length))"
   ]
  },
  {
   "cell_type": "code",
   "execution_count": 7,
   "metadata": {},
   "outputs": [
    {
     "name": "stderr",
     "output_type": "stream",
     "text": [
      "c:\\Users\\pysau\\OneDrive\\Documents\\GitHub\\jkTechAssignment\\venv\\Lib\\site-packages\\tqdm\\auto.py:21: TqdmWarning: IProgress not found. Please update jupyter and ipywidgets. See https://ipywidgets.readthedocs.io/en/stable/user_install.html\n",
      "  from .autonotebook import tqdm as notebook_tqdm\n"
     ]
    }
   ],
   "source": [
    "huggingface_embeddings = HuggingFaceBgeEmbeddings(\n",
    "    model_name=\"BAAI/bge-small-en-v1.5\",  # alternatively use \"sentence-transformers/all-MiniLM-l6-v2\" for a light and faster experience.\n",
    "    model_kwargs={'device':'cpu'}, \n",
    "    encode_kwargs={'normalize_embeddings': True}\n",
    ")"
   ]
  },
  {
   "cell_type": "code",
   "execution_count": 8,
   "metadata": {},
   "outputs": [
    {
     "name": "stdout",
     "output_type": "stream",
     "text": [
      "Sample embedding of a document chunk:  [ 9.45379306e-03  3.40652801e-02 -8.87223752e-04  4.57740873e-02\n",
      "  5.24118841e-02  3.09098735e-02  1.87078528e-02  2.71418355e-02\n",
      "  2.15778444e-02  1.66033916e-02  4.27022502e-02 -3.07556819e-02\n",
      "  3.73598039e-02 -2.22873744e-02  3.41020932e-05  3.06538269e-02\n",
      "  1.81604512e-02  3.30316201e-02  5.48799057e-03  4.86590341e-02\n",
      "  2.48664040e-02 -2.36055367e-02  4.83363383e-02 -2.34760568e-02\n",
      "  1.22057488e-02  5.75912232e-03  1.43930549e-02  2.59865019e-02\n",
      " -1.11157289e-02 -2.01219618e-01  7.88473524e-03 -2.47552153e-02\n",
      "  6.90990686e-02 -4.87190485e-02  1.14937872e-02  4.40839306e-02\n",
      "  2.88460981e-02 -2.57098489e-03 -1.48328079e-03  7.39263818e-02\n",
      "  5.73802032e-02  6.40018657e-02 -3.87344770e-02 -4.24978882e-03\n",
      "  4.82909456e-02  4.89551164e-02  2.17431020e-02 -5.66363260e-02\n",
      "  7.24157412e-03 -1.38047934e-02  3.27429175e-02 -1.36124194e-02\n",
      "  4.45400700e-02  4.16527651e-02  1.71112437e-02 -4.10470665e-02\n",
      "  4.41569388e-02 -3.63703892e-02 -4.19905130e-03 -5.53904697e-02\n",
      "  3.72572206e-02 -1.54362982e-02 -1.58383429e-01  4.65202294e-02\n",
      "  3.51340771e-02 -1.43753430e-02 -5.65875322e-02  4.48587723e-03\n",
      "  2.14115810e-03  6.80343211e-02  5.00472561e-02  2.80757039e-03\n",
      "  6.27044309e-03  5.55358566e-02  9.32298787e-03 -2.12081634e-02\n",
      " -4.33003977e-02  6.43849373e-02 -2.73457579e-02 -2.72131171e-02\n",
      "  1.84372049e-02  2.70849410e-02 -4.82586510e-02 -9.78190750e-02\n",
      "  2.94386558e-02 -1.27060032e-02 -3.62841524e-02  2.69823801e-02\n",
      " -4.11082022e-02  2.92422418e-02  7.61514604e-02  3.57440338e-02\n",
      "  7.65708759e-02 -7.76660740e-02 -5.62299155e-02 -4.76446040e-02\n",
      "  5.81360273e-02  1.19441580e-02  1.09966593e-02  3.37433219e-01\n",
      " -4.13798867e-03  8.25342443e-03  5.57068214e-02  3.99745489e-03\n",
      "  5.69604710e-02  3.91625687e-02 -2.04326529e-02 -3.21099646e-02\n",
      "  7.41355773e-03  1.13132698e-02 -1.51799098e-02 -1.58135165e-02\n",
      " -1.38236172e-02 -1.94386989e-02  4.53861915e-02  2.74946913e-02\n",
      "  5.03309891e-02 -3.38262320e-02 -1.06077887e-01  2.23105904e-04\n",
      " -1.05488576e-01 -3.22507471e-02  3.52200791e-02  3.53759043e-02\n",
      " -6.16636407e-03  1.75150186e-02 -5.22170588e-02  4.10096459e-02\n",
      "  5.96635640e-02  1.41822388e-02 -2.12777648e-02 -7.27495626e-02\n",
      " -8.21806788e-02 -4.15057503e-02  4.15599793e-02 -2.21329685e-02\n",
      "  3.65942940e-02  9.72353853e-03  1.45791080e-02 -4.05032784e-02\n",
      " -2.57544033e-02 -8.07127506e-02 -5.79520222e-03  2.25166362e-02\n",
      " -5.64837605e-02 -5.11194393e-02  1.77761614e-02  3.37018544e-04\n",
      "  7.75634050e-02 -5.32875322e-02 -3.34481411e-02 -4.00550030e-02\n",
      "  2.71592382e-02 -9.26950499e-02  3.26476730e-02  2.94184014e-02\n",
      "  5.81495725e-02  2.13945135e-02 -8.48814696e-02 -1.49080036e-02\n",
      "  7.26664439e-03  1.96666596e-03 -4.04807180e-02  2.30941884e-02\n",
      "  4.60739881e-02 -1.35093912e-01 -7.64270499e-03  3.90692288e-03\n",
      " -4.65503614e-03 -4.17758077e-02 -3.33187617e-02  1.30380609e-03\n",
      " -3.93704660e-02  4.30597104e-02  8.32513869e-02  4.68181558e-02\n",
      " -9.33752861e-03 -2.54662596e-02 -2.22332887e-02 -2.42621060e-02\n",
      "  3.70215019e-03 -9.80013702e-03  5.55592999e-02  6.53854618e-03\n",
      "  1.51566346e-03 -1.07670082e-02  8.73202179e-03  1.72598623e-02\n",
      " -1.80833333e-03  3.25277820e-02 -4.23650444e-03  7.69524425e-02\n",
      " -4.09933962e-02 -1.32929534e-02 -1.63213108e-02 -5.65432534e-02\n",
      " -4.74152900e-02  4.75532748e-02  9.77904070e-03 -2.14024987e-02\n",
      "  3.29175591e-02 -4.59037907e-02  2.27823528e-03 -2.24230648e-03\n",
      " -1.66253652e-02  7.13927001e-02 -8.39460292e-04  5.45984618e-02\n",
      " -1.49762919e-02  2.69837864e-02 -5.36264405e-02  2.77503226e-02\n",
      " -3.39125767e-02  1.33028878e-02 -5.86364083e-02 -2.42185835e-02\n",
      "  2.88314708e-02 -6.89367056e-02 -1.74116436e-02 -7.67522827e-02\n",
      "  4.09391616e-03 -9.32484120e-02 -3.39980819e-04 -2.90884376e-01\n",
      " -3.01919151e-02 -4.72570118e-03 -4.51782420e-02  6.23337217e-02\n",
      "  1.04098720e-02 -2.64036302e-02 -3.63939777e-02  8.80747736e-02\n",
      " -5.92433438e-02  1.28837712e-02 -2.25225743e-02 -4.21085246e-02\n",
      "  1.34733515e-02 -4.48238589e-02  7.67884851e-02 -7.11723417e-02\n",
      " -9.31473635e-03  6.79444056e-03 -7.70871341e-03  3.55583169e-02\n",
      "  1.62209645e-02 -1.10719845e-01  5.04211821e-02  1.53035475e-02\n",
      " -2.07930766e-02  1.42764732e-01  4.72363755e-02  1.52511839e-02\n",
      " -4.53990549e-02 -2.23804154e-02 -6.69583725e-03 -4.23339792e-02\n",
      " -6.51299357e-02  2.40593776e-02  3.72769521e-03  6.27029389e-02\n",
      "  1.69876067e-03 -4.50741202e-02 -7.64638484e-02 -5.04839160e-02\n",
      " -3.25440690e-02 -3.41957211e-02 -1.35249030e-02  5.53058721e-02\n",
      " -1.28818350e-03 -3.97098511e-02 -4.16513085e-02  3.31353918e-02\n",
      "  6.07539453e-02 -6.93408307e-03 -6.70564314e-03  2.63063274e-02\n",
      "  1.85751207e-02 -6.16079308e-02  5.81036741e-03 -2.42990218e-02\n",
      " -1.49895241e-02  6.72538728e-02  5.58888093e-02 -3.18389460e-02\n",
      " -4.78849746e-02 -5.70602529e-02 -8.97794217e-02  3.74980755e-02\n",
      "  7.14590773e-02  1.87153928e-02  4.79632616e-02 -1.56712672e-03\n",
      " -1.87265873e-02 -1.88315827e-02  3.16420496e-02 -4.92719486e-02\n",
      " -2.84776911e-02  5.32852262e-02  2.27528159e-02  9.77277979e-02\n",
      " -4.07932773e-02 -1.62736308e-02  9.99824516e-03  6.03657179e-02\n",
      " -4.23028655e-02  1.56957339e-02 -6.44589663e-02  3.50910686e-02\n",
      " -9.19700414e-03 -4.78549227e-02 -2.89264433e-02  2.53682379e-02\n",
      " -3.60238664e-02  2.05067266e-02 -5.88653684e-02 -6.64347038e-03\n",
      " -1.75221171e-02 -4.03396320e-03  5.03102578e-02 -2.25139275e-01\n",
      "  4.64727432e-02 -3.74922007e-02  2.57442109e-02  1.88605767e-02\n",
      " -1.44188646e-02 -3.35494056e-02  4.26043160e-02  2.80838436e-03\n",
      "  5.59273409e-03  2.22657043e-02  1.53565798e-02  2.58958414e-02\n",
      " -2.10361276e-02 -3.61470021e-02  1.59187019e-02  6.79863319e-02\n",
      "  3.51402014e-02  9.43999514e-02 -4.76112440e-02  5.64560220e-02\n",
      "  6.70822784e-02  1.05798148e-01 -7.44473264e-02 -4.88978364e-02\n",
      "  6.97766468e-02 -3.38453539e-02  2.06717458e-02 -7.06888363e-02\n",
      "  1.20254036e-03  1.62995663e-02  4.86528911e-02  5.91580346e-02\n",
      " -2.36196090e-02  1.82345677e-02  7.15010613e-02  8.20865855e-03\n",
      "  1.89968366e-02  2.01351885e-02  2.17341762e-02 -2.27171443e-02\n",
      "  1.17750959e-02  3.27533409e-02  3.12794931e-02  1.41580194e-01\n",
      " -4.51196060e-02  3.74272279e-02 -1.01270042e-02 -1.32863047e-02\n",
      " -1.47529682e-02 -3.38400714e-02  5.98546676e-03 -3.69562842e-02\n",
      "  7.94374272e-02 -2.20568106e-02  1.97525397e-02 -3.51605490e-02\n",
      " -5.88112287e-02  3.07666492e-02 -4.85931896e-02  3.09342630e-02\n",
      "  4.03188140e-04  1.87334307e-02 -8.78494047e-03 -1.02067338e-02]\n",
      "Size of the embedding:  (384,)\n"
     ]
    }
   ],
   "source": [
    "sample_embedding = np.array(huggingface_embeddings.embed_query(docs_after_split[0].page_content))\n",
    "print(\"Sample embedding of a document chunk: \", sample_embedding)\n",
    "print(\"Size of the embedding: \", sample_embedding.shape)"
   ]
  },
  {
   "cell_type": "code",
   "execution_count": 11,
   "metadata": {},
   "outputs": [
    {
     "data": {
      "text/plain": [
       "array([ 9.45379306e-03,  3.40652801e-02, -8.87223752e-04,  4.57740873e-02,\n",
       "        5.24118841e-02,  3.09098735e-02,  1.87078528e-02,  2.71418355e-02,\n",
       "        2.15778444e-02,  1.66033916e-02,  4.27022502e-02, -3.07556819e-02,\n",
       "        3.73598039e-02, -2.22873744e-02,  3.41020932e-05,  3.06538269e-02,\n",
       "        1.81604512e-02,  3.30316201e-02,  5.48799057e-03,  4.86590341e-02,\n",
       "        2.48664040e-02, -2.36055367e-02,  4.83363383e-02, -2.34760568e-02,\n",
       "        1.22057488e-02,  5.75912232e-03,  1.43930549e-02,  2.59865019e-02,\n",
       "       -1.11157289e-02, -2.01219618e-01,  7.88473524e-03, -2.47552153e-02,\n",
       "        6.90990686e-02, -4.87190485e-02,  1.14937872e-02,  4.40839306e-02,\n",
       "        2.88460981e-02, -2.57098489e-03, -1.48328079e-03,  7.39263818e-02,\n",
       "        5.73802032e-02,  6.40018657e-02, -3.87344770e-02, -4.24978882e-03,\n",
       "        4.82909456e-02,  4.89551164e-02,  2.17431020e-02, -5.66363260e-02,\n",
       "        7.24157412e-03, -1.38047934e-02,  3.27429175e-02, -1.36124194e-02,\n",
       "        4.45400700e-02,  4.16527651e-02,  1.71112437e-02, -4.10470665e-02,\n",
       "        4.41569388e-02, -3.63703892e-02, -4.19905130e-03, -5.53904697e-02,\n",
       "        3.72572206e-02, -1.54362982e-02, -1.58383429e-01,  4.65202294e-02,\n",
       "        3.51340771e-02, -1.43753430e-02, -5.65875322e-02,  4.48587723e-03,\n",
       "        2.14115810e-03,  6.80343211e-02,  5.00472561e-02,  2.80757039e-03,\n",
       "        6.27044309e-03,  5.55358566e-02,  9.32298787e-03, -2.12081634e-02,\n",
       "       -4.33003977e-02,  6.43849373e-02, -2.73457579e-02, -2.72131171e-02,\n",
       "        1.84372049e-02,  2.70849410e-02, -4.82586510e-02, -9.78190750e-02,\n",
       "        2.94386558e-02, -1.27060032e-02, -3.62841524e-02,  2.69823801e-02,\n",
       "       -4.11082022e-02,  2.92422418e-02,  7.61514604e-02,  3.57440338e-02,\n",
       "        7.65708759e-02, -7.76660740e-02, -5.62299155e-02, -4.76446040e-02,\n",
       "        5.81360273e-02,  1.19441580e-02,  1.09966593e-02,  3.37433219e-01,\n",
       "       -4.13798867e-03,  8.25342443e-03,  5.57068214e-02,  3.99745489e-03,\n",
       "        5.69604710e-02,  3.91625687e-02, -2.04326529e-02, -3.21099646e-02,\n",
       "        7.41355773e-03,  1.13132698e-02, -1.51799098e-02, -1.58135165e-02,\n",
       "       -1.38236172e-02, -1.94386989e-02,  4.53861915e-02,  2.74946913e-02,\n",
       "        5.03309891e-02, -3.38262320e-02, -1.06077887e-01,  2.23105904e-04,\n",
       "       -1.05488576e-01, -3.22507471e-02,  3.52200791e-02,  3.53759043e-02,\n",
       "       -6.16636407e-03,  1.75150186e-02, -5.22170588e-02,  4.10096459e-02,\n",
       "        5.96635640e-02,  1.41822388e-02, -2.12777648e-02, -7.27495626e-02,\n",
       "       -8.21806788e-02, -4.15057503e-02,  4.15599793e-02, -2.21329685e-02,\n",
       "        3.65942940e-02,  9.72353853e-03,  1.45791080e-02, -4.05032784e-02,\n",
       "       -2.57544033e-02, -8.07127506e-02, -5.79520222e-03,  2.25166362e-02,\n",
       "       -5.64837605e-02, -5.11194393e-02,  1.77761614e-02,  3.37018544e-04,\n",
       "        7.75634050e-02, -5.32875322e-02, -3.34481411e-02, -4.00550030e-02,\n",
       "        2.71592382e-02, -9.26950499e-02,  3.26476730e-02,  2.94184014e-02,\n",
       "        5.81495725e-02,  2.13945135e-02, -8.48814696e-02, -1.49080036e-02,\n",
       "        7.26664439e-03,  1.96666596e-03, -4.04807180e-02,  2.30941884e-02,\n",
       "        4.60739881e-02, -1.35093912e-01, -7.64270499e-03,  3.90692288e-03,\n",
       "       -4.65503614e-03, -4.17758077e-02, -3.33187617e-02,  1.30380609e-03,\n",
       "       -3.93704660e-02,  4.30597104e-02,  8.32513869e-02,  4.68181558e-02,\n",
       "       -9.33752861e-03, -2.54662596e-02, -2.22332887e-02, -2.42621060e-02,\n",
       "        3.70215019e-03, -9.80013702e-03,  5.55592999e-02,  6.53854618e-03,\n",
       "        1.51566346e-03, -1.07670082e-02,  8.73202179e-03,  1.72598623e-02,\n",
       "       -1.80833333e-03,  3.25277820e-02, -4.23650444e-03,  7.69524425e-02,\n",
       "       -4.09933962e-02, -1.32929534e-02, -1.63213108e-02, -5.65432534e-02,\n",
       "       -4.74152900e-02,  4.75532748e-02,  9.77904070e-03, -2.14024987e-02,\n",
       "        3.29175591e-02, -4.59037907e-02,  2.27823528e-03, -2.24230648e-03,\n",
       "       -1.66253652e-02,  7.13927001e-02, -8.39460292e-04,  5.45984618e-02,\n",
       "       -1.49762919e-02,  2.69837864e-02, -5.36264405e-02,  2.77503226e-02,\n",
       "       -3.39125767e-02,  1.33028878e-02, -5.86364083e-02, -2.42185835e-02,\n",
       "        2.88314708e-02, -6.89367056e-02, -1.74116436e-02, -7.67522827e-02,\n",
       "        4.09391616e-03, -9.32484120e-02, -3.39980819e-04, -2.90884376e-01,\n",
       "       -3.01919151e-02, -4.72570118e-03, -4.51782420e-02,  6.23337217e-02,\n",
       "        1.04098720e-02, -2.64036302e-02, -3.63939777e-02,  8.80747736e-02,\n",
       "       -5.92433438e-02,  1.28837712e-02, -2.25225743e-02, -4.21085246e-02,\n",
       "        1.34733515e-02, -4.48238589e-02,  7.67884851e-02, -7.11723417e-02,\n",
       "       -9.31473635e-03,  6.79444056e-03, -7.70871341e-03,  3.55583169e-02,\n",
       "        1.62209645e-02, -1.10719845e-01,  5.04211821e-02,  1.53035475e-02,\n",
       "       -2.07930766e-02,  1.42764732e-01,  4.72363755e-02,  1.52511839e-02,\n",
       "       -4.53990549e-02, -2.23804154e-02, -6.69583725e-03, -4.23339792e-02,\n",
       "       -6.51299357e-02,  2.40593776e-02,  3.72769521e-03,  6.27029389e-02,\n",
       "        1.69876067e-03, -4.50741202e-02, -7.64638484e-02, -5.04839160e-02,\n",
       "       -3.25440690e-02, -3.41957211e-02, -1.35249030e-02,  5.53058721e-02,\n",
       "       -1.28818350e-03, -3.97098511e-02, -4.16513085e-02,  3.31353918e-02,\n",
       "        6.07539453e-02, -6.93408307e-03, -6.70564314e-03,  2.63063274e-02,\n",
       "        1.85751207e-02, -6.16079308e-02,  5.81036741e-03, -2.42990218e-02,\n",
       "       -1.49895241e-02,  6.72538728e-02,  5.58888093e-02, -3.18389460e-02,\n",
       "       -4.78849746e-02, -5.70602529e-02, -8.97794217e-02,  3.74980755e-02,\n",
       "        7.14590773e-02,  1.87153928e-02,  4.79632616e-02, -1.56712672e-03,\n",
       "       -1.87265873e-02, -1.88315827e-02,  3.16420496e-02, -4.92719486e-02,\n",
       "       -2.84776911e-02,  5.32852262e-02,  2.27528159e-02,  9.77277979e-02,\n",
       "       -4.07932773e-02, -1.62736308e-02,  9.99824516e-03,  6.03657179e-02,\n",
       "       -4.23028655e-02,  1.56957339e-02, -6.44589663e-02,  3.50910686e-02,\n",
       "       -9.19700414e-03, -4.78549227e-02, -2.89264433e-02,  2.53682379e-02,\n",
       "       -3.60238664e-02,  2.05067266e-02, -5.88653684e-02, -6.64347038e-03,\n",
       "       -1.75221171e-02, -4.03396320e-03,  5.03102578e-02, -2.25139275e-01,\n",
       "        4.64727432e-02, -3.74922007e-02,  2.57442109e-02,  1.88605767e-02,\n",
       "       -1.44188646e-02, -3.35494056e-02,  4.26043160e-02,  2.80838436e-03,\n",
       "        5.59273409e-03,  2.22657043e-02,  1.53565798e-02,  2.58958414e-02,\n",
       "       -2.10361276e-02, -3.61470021e-02,  1.59187019e-02,  6.79863319e-02,\n",
       "        3.51402014e-02,  9.43999514e-02, -4.76112440e-02,  5.64560220e-02,\n",
       "        6.70822784e-02,  1.05798148e-01, -7.44473264e-02, -4.88978364e-02,\n",
       "        6.97766468e-02, -3.38453539e-02,  2.06717458e-02, -7.06888363e-02,\n",
       "        1.20254036e-03,  1.62995663e-02,  4.86528911e-02,  5.91580346e-02,\n",
       "       -2.36196090e-02,  1.82345677e-02,  7.15010613e-02,  8.20865855e-03,\n",
       "        1.89968366e-02,  2.01351885e-02,  2.17341762e-02, -2.27171443e-02,\n",
       "        1.17750959e-02,  3.27533409e-02,  3.12794931e-02,  1.41580194e-01,\n",
       "       -4.51196060e-02,  3.74272279e-02, -1.01270042e-02, -1.32863047e-02,\n",
       "       -1.47529682e-02, -3.38400714e-02,  5.98546676e-03, -3.69562842e-02,\n",
       "        7.94374272e-02, -2.20568106e-02,  1.97525397e-02, -3.51605490e-02,\n",
       "       -5.88112287e-02,  3.07666492e-02, -4.85931896e-02,  3.09342630e-02,\n",
       "        4.03188140e-04,  1.87334307e-02, -8.78494047e-03, -1.02067338e-02])"
      ]
     },
     "execution_count": 11,
     "metadata": {},
     "output_type": "execute_result"
    }
   ],
   "source": [
    "sample_embedding"
   ]
  },
  {
   "cell_type": "code",
   "execution_count": 9,
   "metadata": {},
   "outputs": [],
   "source": [
    "vectorstore = FAISS.from_documents(docs_after_split, huggingface_embeddings)"
   ]
  },
  {
   "cell_type": "code",
   "execution_count": null,
   "metadata": {},
   "outputs": [
    {
     "name": "stdout",
     "output_type": "stream",
     "text": [
      "Answer number 0 : fetch = +refs/heads/qa*:refs/remotes/origin/qa*\n",
      "However, you can use namespacing to accomplish something like that. If you have\n",
      "a QA team that pushes a series of branches, and you want to get the master branch and\n",
      "any of the QA team’s branches but nothing else, you can use a conﬁg section like this:\n",
      "[remote \"origin\"]\n",
      "url = git@github.com:schacon/simplegit-progit.git\n",
      "fetch = +refs/heads/master:refs/remotes/origin/master\n",
      "fetch = +refs/heads/qa/*:refs/remotes/origin/qa/*\n",
      "If you have a complex workﬂow process that has a QA team pushing branches, de-\n",
      "velopers pushing branches, and integration teams pushing and collaborating on remote\n",
      "branches, you can namespace them easily this way. \n",
      " \n",
      "\n",
      "Answer number 1 : This does a one-time pull and doesn’t save the URL as a remote reference:\n",
      "$ git pull git://github.com/onetimeguy/project.git\n",
      "From git://github.com/onetimeguy/project\n",
      "* branch HEAD -> FETCH_HEAD\n",
      "Merge made by recursive.\n",
      "5.3.4 Determining What Is Introduced\n",
      "Now you have a topic branch that contains contributed work. At this point, you can\n",
      "determine what you’d like to do with it. This section revisits a couple of commands so\n",
      "you can see how you can use them to review exactly what you’ll be introducing if you\n",
      "merge this into your main branch.\n",
      "It’s often helpful to get a review of all the commits that are in this branch but that \n",
      " \n",
      "\n",
      "Answer number 2 : branches, you can namespace them easily this way.\n",
      "9.5.1 Pushing Refspecs\n",
      "It’s nice that you can fetch namespaced references that way, but how does the QA team\n",
      "get their branches into aqa/ namespace in the ﬁrst place? You accomplish that by using\n",
      "refspecs to push.\n",
      "If the QA team wants to push their master branch to qa/master on the remote\n",
      "server, they can run\n",
      "$ git push origin master:refs/heads/qa/master\n",
      "If they want Git to do that automatically each time they run git push origin, they\n",
      "can add a push value to their conﬁg ﬁle:\n",
      "[remote \"origin\"]\n",
      "url = git@github.com:schacon/simplegit-progit.git\n",
      "fetch = +refs/heads/*:refs/remotes/origin/*\n",
      "push = refs/heads/master:refs/heads/qa/master \n",
      " \n",
      "\n",
      "Answer number 3 : * [new branch] ticgit -> pb/ticgit\n",
      "Paul’s master branch is accessible locally as pb/master — you can merge it into\n",
      "one of your branches, or you can check out a local branch at that point if you want to\n",
      "inspect it.\n",
      "2.5.3 Fetching and Pulling from Your Remotes\n",
      "As you just saw, to get data from your remote projects, you can run\n",
      "$ git fetch [remote-name]\n",
      "The command goes out to that remote project and pulls down all the data from that\n",
      "remote project that you don’t have yet. After you do this, you should have references\n",
      "to all the branches from that remote, which you can merge in or inspect at any time.\n",
      "(We’ll go over what branches are and how to use them in much more detail in Chapter\n",
      "3.) \n",
      " \n",
      "\n"
     ]
    }
   ],
   "source": [
    "query = \"\"\"How to fetch branch\"\"\"  \n",
    "         # Sample question, change to other questions you are interested in.\n",
    "relevant_documents = vectorstore.similarity_search(query)\n",
    "# print(f'There are {len(relevant_documents)} documents retrieved which are relevant to the query. Display the first one:\\n')\n",
    "# print(relevant_documents[0].page_content)\n",
    "for i,a in enumerate(relevant_documents):\n",
    "    print(f\"Answer number {i} : {a.page_content} \\n \\n\")"
   ]
  },
  {
   "cell_type": "code",
   "execution_count": 13,
   "metadata": {},
   "outputs": [
    {
     "name": "stdout",
     "output_type": "stream",
     "text": [
      "{0: 'fetch = +refs/heads/qa*:refs/remotes/origin/qa*\\nHowever, you can use namespacing to accomplish something like that. If you have\\na QA team that pushes a series of branches, and you want to get the master branch and\\nany of the QA team’s branches but nothing else, you can use a conﬁg section like this:\\n[remote \"origin\"]\\nurl = git@github.com:schacon/simplegit-progit.git\\nfetch = +refs/heads/master:refs/remotes/origin/master\\nfetch = +refs/heads/qa/*:refs/remotes/origin/qa/*\\nIf you have a complex workﬂow process that has a QA team pushing branches, de-\\nvelopers pushing branches, and integration teams pushing and collaborating on remote\\nbranches, you can namespace them easily this way.', 1: 'This does a one-time pull and doesn’t save the URL as a remote reference:\\n$ git pull git://github.com/onetimeguy/project.git\\nFrom git://github.com/onetimeguy/project\\n* branch HEAD -> FETCH_HEAD\\nMerge made by recursive.\\n5.3.4 Determining What Is Introduced\\nNow you have a topic branch that contains contributed work. At this point, you can\\ndetermine what you’d like to do with it. This section revisits a couple of commands so\\nyou can see how you can use them to review exactly what you’ll be introducing if you\\nmerge this into your main branch.\\nIt’s often helpful to get a review of all the commits that are in this branch but that', 2: 'branches, you can namespace them easily this way.\\n9.5.1 Pushing Refspecs\\nIt’s nice that you can fetch namespaced references that way, but how does the QA team\\nget their branches into aqa/ namespace in the ﬁrst place? You accomplish that by using\\nrefspecs to push.\\nIf the QA team wants to push their master branch to qa/master on the remote\\nserver, they can run\\n$ git push origin master:refs/heads/qa/master\\nIf they want Git to do that automatically each time they run git push origin, they\\ncan add a push value to their conﬁg ﬁle:\\n[remote \"origin\"]\\nurl = git@github.com:schacon/simplegit-progit.git\\nfetch = +refs/heads/*:refs/remotes/origin/*\\npush = refs/heads/master:refs/heads/qa/master', 3: '* [new branch] ticgit -> pb/ticgit\\nPaul’s master branch is accessible locally as pb/master — you can merge it into\\none of your branches, or you can check out a local branch at that point if you want to\\ninspect it.\\n2.5.3 Fetching and Pulling from Your Remotes\\nAs you just saw, to get data from your remote projects, you can run\\n$ git fetch [remote-name]\\nThe command goes out to that remote project and pulls down all the data from that\\nremote project that you don’t have yet. After you do this, you should have references\\nto all the branches from that remote, which you can merge in or inspect at any time.\\n(We’ll go over what branches are and how to use them in much more detail in Chapter\\n3.)'}\n"
     ]
    }
   ],
   "source": [
    "anwsers = {}\n",
    "for i,a in enumerate(relevant_documents):\n",
    "    # print(f\"Answer number {i} : {a.page_content} \\n \\n\")\n",
    "    anwsers[i]=a.page_content\n",
    "\n",
    "print(anwsers)"
   ]
  },
  {
   "cell_type": "code",
   "execution_count": 14,
   "metadata": {},
   "outputs": [],
   "source": [
    "ans = {i:a.page_content  for i,a in enumerate(relevant_documents) }"
   ]
  },
  {
   "cell_type": "code",
   "execution_count": 15,
   "metadata": {},
   "outputs": [
    {
     "data": {
      "text/plain": [
       "{0: 'fetch = +refs/heads/qa*:refs/remotes/origin/qa*\\nHowever, you can use namespacing to accomplish something like that. If you have\\na QA team that pushes a series of branches, and you want to get the master branch and\\nany of the QA team’s branches but nothing else, you can use a conﬁg section like this:\\n[remote \"origin\"]\\nurl = git@github.com:schacon/simplegit-progit.git\\nfetch = +refs/heads/master:refs/remotes/origin/master\\nfetch = +refs/heads/qa/*:refs/remotes/origin/qa/*\\nIf you have a complex workﬂow process that has a QA team pushing branches, de-\\nvelopers pushing branches, and integration teams pushing and collaborating on remote\\nbranches, you can namespace them easily this way.',\n",
       " 1: 'This does a one-time pull and doesn’t save the URL as a remote reference:\\n$ git pull git://github.com/onetimeguy/project.git\\nFrom git://github.com/onetimeguy/project\\n* branch HEAD -> FETCH_HEAD\\nMerge made by recursive.\\n5.3.4 Determining What Is Introduced\\nNow you have a topic branch that contains contributed work. At this point, you can\\ndetermine what you’d like to do with it. This section revisits a couple of commands so\\nyou can see how you can use them to review exactly what you’ll be introducing if you\\nmerge this into your main branch.\\nIt’s often helpful to get a review of all the commits that are in this branch but that',\n",
       " 2: 'branches, you can namespace them easily this way.\\n9.5.1 Pushing Refspecs\\nIt’s nice that you can fetch namespaced references that way, but how does the QA team\\nget their branches into aqa/ namespace in the ﬁrst place? You accomplish that by using\\nrefspecs to push.\\nIf the QA team wants to push their master branch to qa/master on the remote\\nserver, they can run\\n$ git push origin master:refs/heads/qa/master\\nIf they want Git to do that automatically each time they run git push origin, they\\ncan add a push value to their conﬁg ﬁle:\\n[remote \"origin\"]\\nurl = git@github.com:schacon/simplegit-progit.git\\nfetch = +refs/heads/*:refs/remotes/origin/*\\npush = refs/heads/master:refs/heads/qa/master',\n",
       " 3: '* [new branch] ticgit -> pb/ticgit\\nPaul’s master branch is accessible locally as pb/master — you can merge it into\\none of your branches, or you can check out a local branch at that point if you want to\\ninspect it.\\n2.5.3 Fetching and Pulling from Your Remotes\\nAs you just saw, to get data from your remote projects, you can run\\n$ git fetch [remote-name]\\nThe command goes out to that remote project and pulls down all the data from that\\nremote project that you don’t have yet. After you do this, you should have references\\nto all the branches from that remote, which you can merge in or inspect at any time.\\n(We’ll go over what branches are and how to use them in much more detail in Chapter\\n3.)'}"
      ]
     },
     "execution_count": 15,
     "metadata": {},
     "output_type": "execute_result"
    }
   ],
   "source": [
    "ans"
   ]
  },
  {
   "cell_type": "code",
   "execution_count": null,
   "metadata": {},
   "outputs": [],
   "source": []
  }
 ],
 "metadata": {
  "kernelspec": {
   "display_name": "venv",
   "language": "python",
   "name": "python3"
  },
  "language_info": {
   "codemirror_mode": {
    "name": "ipython",
    "version": 3
   },
   "file_extension": ".py",
   "mimetype": "text/x-python",
   "name": "python",
   "nbconvert_exporter": "python",
   "pygments_lexer": "ipython3",
   "version": "3.12.6"
  }
 },
 "nbformat": 4,
 "nbformat_minor": 2
}
