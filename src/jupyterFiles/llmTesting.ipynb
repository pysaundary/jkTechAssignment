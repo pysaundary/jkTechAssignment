{
 "cells": [
  {
   "cell_type": "code",
   "execution_count": 1,
   "metadata": {},
   "outputs": [],
   "source": [
    "import os\n",
    "from urllib.request import urlretrieve\n",
    "import numpy as np\n",
    "from langchain_community.embeddings import HuggingFaceBgeEmbeddings\n",
    "# from langchain_community.llms import HuggingFacePipeline\n",
    "from langchain_community.document_loaders import PyPDFLoader\n",
    "from langchain_community.document_loaders import PyPDFDirectoryLoader\n",
    "from langchain.text_splitter import RecursiveCharacterTextSplitter\n",
    "from langchain_community.vectorstores import FAISS\n",
    "# from langchain.chains import RetrievalQA\n",
    "from langchain.prompts import PromptTemplate"
   ]
  },
  {
   "cell_type": "code",
   "execution_count": 22,
   "metadata": {},
   "outputs": [
    {
     "name": "stdout",
     "output_type": "stream",
     "text": [
      "python\\Eric%20Matthes%20-%20Python%20Crash%20Course-No%20Starch%20Press%20%282023%29.pdf\n"
     ]
    }
   ],
   "source": [
    "# Download documents from U.S. Census Bureau to local directory.\n",
    "os.makedirs(\"python\", exist_ok=True)\n",
    "files = [\n",
    "    # \"https://www.census.gov/content/dam/Census/library/publications/2022/demo/p70-178.pdf\",\n",
    "    # \"https://www.census.gov/content/dam/Census/library/publications/2023/acs/acsbr-017.pdf\",\n",
    "    # \"https://www.census.gov/content/dam/Census/library/publications/2023/acs/acsbr-016.pdf\",\n",
    "    # \"https://www.census.gov/content/dam/Census/library/publications/2023/acs/acsbr-015.pdf\",\n",
    "    \"https://ia600200.us.archive.org/35/items/eric-matthes-python-crash-course-no-starch-press-2023/Eric%20Matthes%20-%20Python%20Crash%20Course-No%20Starch%20Press%20%282023%29.pdf\"\n",
    "]\n",
    "for url in files:\n",
    "    file_path = os.path.join(\"python\", url.rpartition(\"/\")[2])\n",
    "    urlretrieve(url, file_path)\n",
    "    print(file_path)"
   ]
  },
  {
   "cell_type": "code",
   "execution_count": 7,
   "metadata": {},
   "outputs": [
    {
     "data": {
      "text/plain": [
       "Document(metadata={'source': 'C:\\\\Users\\\\pysau\\\\OneDrive\\\\Documents\\\\GitHub\\\\jkTechAssignment\\\\media\\\\psaundary_4f587fcb-dff7-4abe-803a-38d46fb0e265_github\\\\Git - Giant Undo Button.pdf', 'page': 0}, page_content='ĢİǺŇȚ\\xa0ŲŇĐǾ\\xa0BŲȚȚǾŇ')"
      ]
     },
     "execution_count": 7,
     "metadata": {},
     "output_type": "execute_result"
    }
   ],
   "source": [
    "loader = PyPDFDirectoryLoader(\"C:\\\\Users\\\\pysau\\\\OneDrive\\\\Documents\\\\GitHub\\\\jkTechAssignment\\\\media\\\\psaundary_4f587fcb-dff7-4abe-803a-38d46fb0e265_github\")\n",
    "\n",
    "docs_before_split = loader.load()\n",
    "text_splitter = RecursiveCharacterTextSplitter(\n",
    "    chunk_size = 700,\n",
    "    chunk_overlap  = 50,\n",
    ")\n",
    "docs_after_split = text_splitter.split_documents(docs_before_split)\n",
    "\n",
    "docs_after_split[0]\n"
   ]
  },
  {
   "cell_type": "code",
   "execution_count": 24,
   "metadata": {},
   "outputs": [],
   "source": [
    "avg_doc_length = lambda docs: sum([len(doc.page_content) for doc in docs])//len(docs)\n",
    "avg_char_before_split = avg_doc_length(docs_before_split)\n",
    "avg_char_after_split = avg_doc_length(docs_after_split)\n",
    "\n",
    "# print(f'Before split, there were {len(docs_before_split)} documents loaded, with average characters equal to {avg_char_before_split}.')\n",
    "# print(f'After split, there were {len(docs_after_split)} documents (chunks), with average characters equal to {avg_char_after_split} (average chunk length).')Before split, there were 63 documents loaded, with average characters equal to 3830.After split, there were 296 documents (chunks), with average characters equal to 864 (average chunk length))"
   ]
  },
  {
   "cell_type": "code",
   "execution_count": 25,
   "metadata": {},
   "outputs": [],
   "source": [
    "huggingface_embeddings = HuggingFaceBgeEmbeddings(\n",
    "    model_name=\"BAAI/bge-small-en-v1.5\",  # alternatively use \"sentence-transformers/all-MiniLM-l6-v2\" for a light and faster experience.\n",
    "    model_kwargs={'device':'cpu'}, \n",
    "    encode_kwargs={'normalize_embeddings': True}\n",
    ")"
   ]
  },
  {
   "cell_type": "code",
   "execution_count": 14,
   "metadata": {},
   "outputs": [
    {
     "name": "stdout",
     "output_type": "stream",
     "text": [
      "Sample embedding of a document chunk:  [-7.50839487e-02 -1.18847508e-02 -3.14887278e-02  2.94038784e-02\n",
      "  5.03487065e-02  5.62426560e-02 -1.69078279e-02  3.46887745e-02\n",
      " -9.79061723e-02 -2.52804179e-02  7.62901306e-02  5.73797636e-02\n",
      " -2.42905449e-02 -3.06788404e-02  6.20474527e-03  4.02186960e-02\n",
      " -8.71851016e-03 -8.25359765e-03 -3.58134247e-02  3.61376256e-02\n",
      " -4.81583290e-02  4.19040211e-02 -3.68844494e-02 -5.38902432e-02\n",
      "  1.65312029e-02  1.20014157e-02 -1.46691436e-02  2.12824587e-02\n",
      " -5.34791723e-02 -1.49481416e-01  2.32284260e-03  3.20234261e-02\n",
      " -5.21530211e-02 -2.28869896e-02  2.32763048e-02  2.14958973e-02\n",
      " -1.39637236e-02  7.53694922e-02  5.07269576e-02  5.50113022e-02\n",
      " -3.30469720e-02  1.79150887e-02 -2.08278317e-02  1.26921711e-03\n",
      " -2.61849370e-02  2.41151988e-03 -1.92517284e-02  3.06517747e-03\n",
      "  1.50286616e-03 -5.14435619e-02  3.78552452e-02 -1.38906296e-02\n",
      "  4.22979146e-02  6.64815083e-02  6.62789270e-02 -4.27095555e-02\n",
      "  9.69377160e-03 -3.63818258e-02 -4.47576381e-02  3.42478193e-02\n",
      "  4.80892248e-02 -8.17977730e-03 -2.61432767e-01  9.35042128e-02\n",
      " -1.23177711e-02  4.97916229e-02 -1.26946634e-02 -6.46231975e-03\n",
      " -1.85768697e-02 -4.12084796e-02 -6.70618191e-02  4.55932654e-02\n",
      " -5.92867248e-02  3.21128219e-03  4.57437895e-02  3.09344921e-02\n",
      "  7.64066586e-03  8.84658843e-03  2.94093750e-02 -2.58820713e-03\n",
      "  2.92377807e-02  2.66136639e-02 -4.13989928e-03 -5.68609275e-02\n",
      "  4.24529985e-02 -9.15009901e-02  4.89867404e-02 -3.28429267e-02\n",
      "  2.88802646e-02 -2.54161023e-02 -3.97304446e-02  6.99063856e-03\n",
      "  8.30587372e-03  3.97989452e-02  1.46019747e-02  3.49585414e-02\n",
      "  2.64400430e-03 -1.07524986e-03 -2.48149075e-02  3.34885597e-01\n",
      " -2.84330845e-02  1.63665246e-02 -1.49358753e-02  2.00819802e-02\n",
      " -1.20456163e-02 -5.32911159e-02 -7.13267876e-03  1.95750943e-03\n",
      "  2.21331380e-02  1.57228317e-02  1.40004046e-02 -2.88737118e-02\n",
      "  3.15910690e-02  4.62218411e-02 -3.93753015e-02 -1.17808329e-02\n",
      "  3.67969051e-02  1.82423349e-02  1.04911886e-01 -2.51978692e-02\n",
      " -7.72674102e-03  2.85531431e-02  2.39118794e-03 -4.62963320e-02\n",
      "  2.06293706e-02  6.91121966e-02  5.51005527e-02  1.45288572e-01\n",
      "  2.00893674e-02 -4.90959845e-02  9.72044021e-02 -3.14233452e-02\n",
      " -6.82205241e-03  8.70190281e-03  7.88773969e-03  1.01440223e-02\n",
      " -2.98855435e-02  3.83801609e-02 -4.76607354e-04  4.60921451e-02\n",
      "  4.26526554e-03  1.92260591e-03  3.72980954e-03 -1.43844992e-01\n",
      " -3.14254127e-02  1.84120312e-01 -2.66537778e-02  3.93032804e-02\n",
      "  2.71653850e-02 -9.13588982e-03 -4.36422676e-02  4.68981192e-02\n",
      " -2.24492308e-02  3.65314037e-02 -3.26293893e-02  2.54268516e-02\n",
      "  8.98855180e-03  2.21870281e-02 -2.53294557e-02 -6.52057528e-02\n",
      "  5.96357770e-02 -3.80218737e-02 -6.74996153e-02  2.13767793e-02\n",
      "  3.28019112e-02 -3.56060751e-02 -7.09049264e-03 -6.29472360e-02\n",
      "  3.46653350e-02  2.94745108e-03  1.10381255e-02  4.49173786e-02\n",
      "  1.85898598e-02 -3.57448980e-02  9.84327495e-02  1.36011019e-02\n",
      " -2.42052581e-02 -8.81959405e-03 -1.90355200e-02 -6.89528584e-02\n",
      "  1.13089904e-02 -2.34223939e-02 -5.76471910e-02 -3.99873108e-02\n",
      " -1.80144720e-02 -4.59445529e-02 -4.32488546e-02  5.04179858e-02\n",
      "  5.98202460e-02 -1.24294478e-02 -6.36573415e-03  9.22005810e-03\n",
      " -6.10286780e-02  3.51959467e-02 -8.42589512e-03 -6.96959905e-03\n",
      " -5.43499701e-02 -1.61404554e-02  3.91421877e-02 -3.27162556e-02\n",
      " -3.36360261e-02  3.14964429e-02  1.46584073e-02 -3.08330823e-03\n",
      " -1.00682247e-02  2.54444163e-02  2.90144701e-02 -6.02994785e-02\n",
      "  3.71565036e-02 -7.00374879e-03  2.12555472e-03  4.51739170e-02\n",
      "  3.97064760e-02  1.13280059e-03  2.60368027e-02  2.39326954e-02\n",
      "  1.21051995e-02 -1.98409930e-02  2.89617642e-03  3.52065302e-02\n",
      "  3.06325946e-02  7.55703449e-02  8.69497806e-02 -2.71886885e-01\n",
      " -1.01404758e-02  7.39603210e-03  7.15586310e-03 -6.00429326e-02\n",
      " -5.37453927e-02 -4.08392735e-02  3.60600017e-02  1.45023735e-02\n",
      "  8.61998275e-02  6.04105741e-02  3.75890685e-03 -2.33943239e-02\n",
      "  8.01003426e-02  8.06646608e-03 -7.77083561e-02  2.96194982e-02\n",
      " -3.67732234e-02 -1.51858991e-02  5.20402938e-03  2.32022663e-04\n",
      "  2.84866989e-03 -7.65166134e-02 -1.83249917e-02  7.28286132e-02\n",
      " -1.51562449e-02  6.44024462e-02 -5.31626344e-02 -6.88023940e-02\n",
      " -1.01751294e-02 -5.86169884e-02  5.46874218e-02 -1.30900079e-02\n",
      " -1.14680149e-01  5.81667311e-02  2.51455512e-02 -8.56098831e-02\n",
      "  2.26662587e-03 -5.81913032e-02 -3.33960913e-02 -2.49851309e-02\n",
      "  4.69970852e-02 -6.48618340e-02  2.31449567e-02 -2.60249339e-02\n",
      " -6.57254308e-02  4.26158570e-02  7.96897039e-02 -7.34065324e-02\n",
      "  1.32927466e-02  4.74230573e-03 -2.38548964e-02 -2.07158513e-02\n",
      " -5.30744251e-03  2.43275221e-02 -6.51929155e-02 -2.45433580e-02\n",
      "  3.93314473e-02 -1.75772887e-02 -2.06314120e-03  2.85326596e-02\n",
      "  1.58546101e-02  3.48943397e-02 -9.82267968e-03 -6.95985835e-03\n",
      " -5.52597716e-02 -4.58842231e-04 -2.82528196e-02 -7.72427246e-02\n",
      "  8.46336875e-03  4.14261920e-03  5.53763807e-02 -2.14620754e-02\n",
      " -2.43416857e-02  1.66745894e-02 -1.66574623e-02  4.91910316e-02\n",
      "  2.13867216e-03 -4.86749178e-03 -5.13635948e-02  4.25720997e-02\n",
      " -5.67145236e-02  1.93783175e-02  4.02168147e-02 -8.94284248e-03\n",
      "  1.87669620e-02  2.86184787e-03  3.87533451e-03 -1.42965410e-02\n",
      "  1.85692627e-02 -2.04249043e-02 -1.69339199e-02 -2.08898447e-02\n",
      " -3.33978310e-02 -2.28457479e-03 -3.34115955e-03 -2.17555821e-01\n",
      "  4.97976877e-02  3.50592919e-02 -1.57288220e-02 -1.56818591e-02\n",
      " -7.38151930e-03 -3.35963964e-02  7.42070470e-03 -6.02511736e-03\n",
      " -2.71219891e-02  4.86272499e-02  8.54909718e-02  1.23634160e-01\n",
      " -1.70354266e-02 -1.62393041e-02  2.80807540e-03  7.15028942e-02\n",
      "  1.67269004e-03  1.61710028e-02 -2.90142763e-02  5.38626239e-02\n",
      " -7.07101002e-02  1.52645618e-01 -3.06274109e-02  2.72723828e-02\n",
      " -7.34533817e-02 -6.98408904e-03  4.07376513e-02 -2.78192814e-02\n",
      "  1.46547286e-02  1.85798276e-02 -3.86151788e-03  3.50742079e-02\n",
      " -2.81762984e-02  5.29078543e-02  3.09833209e-03  8.15661345e-03\n",
      "  5.76676950e-02  1.20558385e-02  1.60512757e-02 -3.98612432e-02\n",
      " -2.24485770e-02  1.00878794e-02  7.98119884e-03  6.20986819e-02\n",
      " -2.58468054e-02 -5.01606166e-02 -4.76672761e-02 -3.93504649e-03\n",
      "  6.24541566e-02  4.03239392e-03 -1.77497491e-02 -9.33071598e-03\n",
      "  1.10814264e-02 -5.74614890e-02 -1.47054810e-02 -5.08489646e-02\n",
      "  3.05493437e-02 -5.38102165e-03 -4.82049538e-03  2.84002256e-02\n",
      "  3.56258489e-02 -7.45407790e-02  1.83500499e-02  6.66981712e-02]\n",
      "Size of the embedding:  (384,)\n"
     ]
    }
   ],
   "source": [
    "sample_embedding = np.array(huggingface_embeddings.embed_query(docs_after_split[0].page_content))\n",
    "print(\"Sample embedding of a document chunk: \", sample_embedding)\n",
    "print(\"Size of the embedding: \", sample_embedding.shape)"
   ]
  },
  {
   "cell_type": "code",
   "execution_count": 26,
   "metadata": {},
   "outputs": [],
   "source": [
    "vectorstore = FAISS.from_documents(docs_after_split, huggingface_embeddings)"
   ]
  },
  {
   "cell_type": "code",
   "execution_count": 34,
   "metadata": {},
   "outputs": [
    {
     "name": "stdout",
     "output_type": "stream",
     "text": [
      "Answer number 0 : ers have practiced specific ways of keeping their weight over their \n",
      "feet whenever possible.\n",
      "These three entries will give us something to work with as we continue \n",
      "to develop Learning Log.\n",
      "The Django Shell\n",
      "Now that we’ve entered some data, we can examine it programmatically \n",
      "through an interactive terminal session. This interactive environment is \n",
      "called the Django shell, and it’s a great environment for testing and trouble-\n",
      "shooting your project. Here’s an example of an interactive shell session:\n",
      "(ll_env)learning_log$ python manage.py shell\n",
      "1 >>> from learning_logs.models import Topic\n",
      ">>> Topic.objects.all()\n",
      "<QuerySet [<Topic: Chess>, <Topic: Rock Climbing>]> \n",
      " \n",
      "\n",
      "Answer number 1 : request. The shell is really useful for making sure your code retrieves the \n",
      "data you want it to. If your code works as you expect it to in the shell, it \n",
      "should also work properly in the files within your project. If your code gen-\n",
      "erates errors or doesn’t retrieve the data you expect it to, it’s much easier \n",
      "to troubleshoot your code in the simple shell environment than within the \n",
      "files that generate web pages. We won’t refer to the shell much, but you \n",
      "should continue using it to practice working with Django’s syntax for access-\n",
      "ing the data stored in the project.\n",
      "Each time you modify your models, you’ll need to restart the shell to \n",
      " \n",
      "\n",
      "Answer number 2 : the Django framework. You saw a brief project specification, installed \n",
      "Django to a virtual environment, set up a project, and checked that the \n",
      "project was set up correctly. You set up an app and defined models to rep-\n",
      "resent the data for your app. You learned about databases and how Django \n",
      "helps you migrate your database after you make a change to your models. \n",
      "You created a superuser for the admin site, and you used the admin site to \n",
      "enter some initial data.\n",
      "You also explored the Django shell, which allows you to work with your \n",
      "project’s data in a terminal session. You learned how to define URLs, cre -\n",
      "ate view functions, and write templates to make pages for your site. You also \n",
      " \n",
      "\n",
      "Answer number 3 : by other Django developers.\n",
      "We’ll deploy Learning Log using Platform.sh, a site that lets you push \n",
      "your project to one of its servers, making it available to anyone with an \n",
      "internet connection. We’ll also start using a version control system called \n",
      "Git to track changes to the project. \n",
      " \n",
      "\n"
     ]
    }
   ],
   "source": [
    "query = \"\"\"what is Django Shell\"\"\"  \n",
    "         # Sample question, change to other questions you are interested in.\n",
    "relevant_documents = vectorstore.similarity_search(query)\n",
    "# print(f'There are {len(relevant_documents)} documents retrieved which are relevant to the query. Display the first one:\\n')\n",
    "# print(relevant_documents[0].page_content)\n",
    "for i,a in enumerate(relevant_documents):\n",
    "    print(f\"Answer number {i} : {a.page_content} \\n \\n\")"
   ]
  },
  {
   "cell_type": "code",
   "execution_count": null,
   "metadata": {},
   "outputs": [],
   "source": []
  }
 ],
 "metadata": {
  "kernelspec": {
   "display_name": "venv",
   "language": "python",
   "name": "python3"
  },
  "language_info": {
   "codemirror_mode": {
    "name": "ipython",
    "version": 3
   },
   "file_extension": ".py",
   "mimetype": "text/x-python",
   "name": "python",
   "nbconvert_exporter": "python",
   "pygments_lexer": "ipython3",
   "version": "3.12.6"
  }
 },
 "nbformat": 4,
 "nbformat_minor": 2
}
